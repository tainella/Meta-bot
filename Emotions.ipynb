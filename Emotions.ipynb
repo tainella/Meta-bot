{
  "nbformat": 4,
  "nbformat_minor": 0,
  "metadata": {
    "accelerator": "GPU",
    "colab": {
      "name": "Emotions.ipynb",
      "provenance": [],
      "collapsed_sections": []
    },
    "kernelspec": {
      "display_name": "Python 3",
      "name": "python3"
    },
    "language_info": {
      "name": "python"
    }
  },
  "cells": [
    {
      "cell_type": "code",
      "metadata": {
        "id": "n2asSSJGztBv"
      },
      "source": [
        "import matplotlib.pyplot as plt\n",
        "import seaborn as sns\n",
        "import pandas as pd\n",
        "import numpy as np\n",
        "from tensorflow.keras.utils import to_categorical\n",
        "import warnings\n",
        "import math\n",
        "import tensorflow as tf\n",
        "warnings.simplefilter(\"ignore\")\n",
        "%matplotlib inline\n",
        "from sklearn.model_selection import train_test_split\n",
        "from tensorflow.keras.metrics import mean_squared_error\n",
        "from sklearn.metrics import f1_score\n",
        "from tensorflow.keras.optimizers import Adam"
      ],
      "execution_count": 140,
      "outputs": []
    },
    {
      "cell_type": "code",
      "metadata": {
        "colab": {
          "base_uri": "https://localhost:8080/"
        },
        "id": "f6NdpsBFz6QV",
        "outputId": "5dc5b6cc-063c-4e00-8415-e1a3c91ef912"
      },
      "source": [
        "from google.colab import drive\n",
        "drive.mount('/content/gdrive/', force_remount=True)"
      ],
      "execution_count": null,
      "outputs": [
        {
          "name": "stdout",
          "output_type": "stream",
          "text": [
            "Mounted at /content/gdrive/\n"
          ]
        }
      ]
    },
    {
      "cell_type": "code",
      "metadata": {
        "colab": {
          "base_uri": "https://localhost:8080/",
          "height": 204
        },
        "id": "wWudcFpz0Bfk",
        "outputId": "e76086bd-f9fe-4487-a5f2-604f64c5a42d"
      },
      "source": [
        "data = pd.read_csv(\"/content/gdrive/MyDrive/fer2013.csv\")\n",
        "data.head()"
      ],
      "execution_count": null,
      "outputs": [
        {
          "data": {
            "text/html": [
              "<div>\n",
              "<style scoped>\n",
              "    .dataframe tbody tr th:only-of-type {\n",
              "        vertical-align: middle;\n",
              "    }\n",
              "\n",
              "    .dataframe tbody tr th {\n",
              "        vertical-align: top;\n",
              "    }\n",
              "\n",
              "    .dataframe thead th {\n",
              "        text-align: right;\n",
              "    }\n",
              "</style>\n",
              "<table border=\"1\" class=\"dataframe\">\n",
              "  <thead>\n",
              "    <tr style=\"text-align: right;\">\n",
              "      <th></th>\n",
              "      <th>emotion</th>\n",
              "      <th>pixels</th>\n",
              "      <th>Usage</th>\n",
              "    </tr>\n",
              "  </thead>\n",
              "  <tbody>\n",
              "    <tr>\n",
              "      <th>0</th>\n",
              "      <td>0</td>\n",
              "      <td>70 80 82 72 58 58 60 63 54 58 60 48 89 115 121...</td>\n",
              "      <td>Training</td>\n",
              "    </tr>\n",
              "    <tr>\n",
              "      <th>1</th>\n",
              "      <td>0</td>\n",
              "      <td>151 150 147 155 148 133 111 140 170 174 182 15...</td>\n",
              "      <td>Training</td>\n",
              "    </tr>\n",
              "    <tr>\n",
              "      <th>2</th>\n",
              "      <td>2</td>\n",
              "      <td>231 212 156 164 174 138 161 173 182 200 106 38...</td>\n",
              "      <td>Training</td>\n",
              "    </tr>\n",
              "    <tr>\n",
              "      <th>3</th>\n",
              "      <td>4</td>\n",
              "      <td>24 32 36 30 32 23 19 20 30 41 21 22 32 34 21 1...</td>\n",
              "      <td>Training</td>\n",
              "    </tr>\n",
              "    <tr>\n",
              "      <th>4</th>\n",
              "      <td>6</td>\n",
              "      <td>4 0 0 0 0 0 0 0 0 0 0 0 3 15 23 28 48 50 58 84...</td>\n",
              "      <td>Training</td>\n",
              "    </tr>\n",
              "  </tbody>\n",
              "</table>\n",
              "</div>"
            ],
            "text/plain": [
              "   emotion                                             pixels     Usage\n",
              "0        0  70 80 82 72 58 58 60 63 54 58 60 48 89 115 121...  Training\n",
              "1        0  151 150 147 155 148 133 111 140 170 174 182 15...  Training\n",
              "2        2  231 212 156 164 174 138 161 173 182 200 106 38...  Training\n",
              "3        4  24 32 36 30 32 23 19 20 30 41 21 22 32 34 21 1...  Training\n",
              "4        6  4 0 0 0 0 0 0 0 0 0 0 0 3 15 23 28 48 50 58 84...  Training"
            ]
          },
          "execution_count": 3,
          "metadata": {},
          "output_type": "execute_result"
        }
      ]
    },
    {
      "cell_type": "code",
      "metadata": {
        "colab": {
          "base_uri": "https://localhost:8080/"
        },
        "id": "zHIr1BSp2FSz",
        "outputId": "60d7f9e3-3736-458f-c9b1-753c0be26981"
      },
      "source": [
        "data_train = data[data['Usage']=='Training'].copy()\n",
        "data_val   = data[data['Usage']=='PublicTest'].copy()\n",
        "data_test  = data[data['Usage']=='PrivateTest'].copy()\n",
        "print(\"train shape: {}, \\nvalidation shape: {}, \\ntest shape: {}\".format(data_train.shape, data_val.shape, data_test.shape))"
      ],
      "execution_count": null,
      "outputs": [
        {
          "name": "stdout",
          "output_type": "stream",
          "text": [
            "train shape: (28709, 3), \n",
            "validation shape: (3589, 3), \n",
            "test shape: (3589, 3)\n"
          ]
        }
      ]
    },
    {
      "cell_type": "code",
      "metadata": {
        "id": "zxk4g9hs2pWr"
      },
      "source": [
        "num_classes = 7 \n",
        "width, height = 48, 48\n",
        "num_epochs = 50\n",
        "batch_size = 64\n",
        "num_features = 64"
      ],
      "execution_count": null,
      "outputs": []
    },
    {
      "cell_type": "code",
      "metadata": {
        "colab": {
          "base_uri": "https://localhost:8080/"
        },
        "id": "UT2Dd73m63rX",
        "outputId": "47ed8c57-0d1f-477b-ad33-725204d61318"
      },
      "source": [
        "data['pixels'].dtype"
      ],
      "execution_count": null,
      "outputs": [
        {
          "data": {
            "text/plain": [
              "dtype('O')"
            ]
          },
          "execution_count": 6,
          "metadata": {},
          "output_type": "execute_result"
        }
      ]
    },
    {
      "cell_type": "code",
      "metadata": {
        "id": "Ll6yDtYO2NQZ"
      },
      "source": [
        "n_samples = len(data)\n",
        "n_samples_train = 28709\n",
        "n_samples_test = 3589\n",
        "n_samples_validation = 3589\n",
        "\n",
        "y = data['emotion']\n",
        "X = np.zeros((n_samples, width, height, 1))\n",
        "for i in range(n_samples):\n",
        "    X[i] = np.array([int(pixel) for pixel in data['pixels'][i].split()]).reshape(48,48,1)\n",
        "\n",
        "#Training set   \n",
        "X_train, X_test, y_train, y_test = train_test_split(X, y, test_size=0.1, random_state=10)"
      ],
      "execution_count": null,
      "outputs": []
    },
    {
      "cell_type": "code",
      "metadata": {
        "id": "b1ON70yG0Mom"
      },
      "source": [
        "resnet = tf.keras.applications.resnet50.ResNet50(include_top=True, weights=None, input_shape=(48,48,1), classes=7, pooling='max', classifier_activation='softmax')"
      ],
      "execution_count": 53,
      "outputs": []
    },
    {
      "cell_type": "code",
      "metadata": {
        "id": "xAclnVJEpeSk"
      },
      "source": [
        "y_train = to_categorical(y_train)"
      ],
      "execution_count": 144,
      "outputs": []
    },
    {
      "cell_type": "code",
      "metadata": {
        "id": "8T5_97qt-Ic-"
      },
      "source": [
        "resnet.compile(loss='categorical_crossentropy', \n",
        "              optimizer=Adam(lr=0.001, beta_1=0.9, beta_2=0.999, epsilon=1e-7), \n",
        "              metrics=['accuracy'])"
      ],
      "execution_count": 161,
      "outputs": []
    },
    {
      "cell_type": "code",
      "metadata": {
        "colab": {
          "base_uri": "https://localhost:8080/"
        },
        "id": "JDW-SaDM1T3E",
        "outputId": "15dc0812-85da-4f5e-ebf5-47b2edf3958f"
      },
      "source": [
        "resnet.fit(X_train, y_train, epochs = 2)"
      ],
      "execution_count": 162,
      "outputs": [
        {
          "output_type": "stream",
          "name": "stdout",
          "text": [
            "Epoch 1/2\n",
            "1010/1010 [==============================] - 129s 121ms/step - loss: 1.8450 - accuracy: 0.2989\n",
            "Epoch 2/2\n",
            "1010/1010 [==============================] - 122s 121ms/step - loss: 1.8016 - accuracy: 0.3080\n"
          ]
        }
      ]
    },
    {
      "cell_type": "code",
      "metadata": {
        "id": "sfTzgDxF-Fgt"
      },
      "source": [
        "pred = resnet.predict(X_test)"
      ],
      "execution_count": 165,
      "outputs": []
    },
    {
      "cell_type": "code",
      "metadata": {
        "id": "hphm_x2yZ0t8"
      },
      "source": [
        "predictions = []\n",
        "for p in pred:\n",
        "  predictions.append(np.argmax(p))"
      ],
      "execution_count": 166,
      "outputs": []
    },
    {
      "cell_type": "code",
      "metadata": {
        "colab": {
          "base_uri": "https://localhost:8080/"
        },
        "id": "C9R7E3fOKRKe",
        "outputId": "2cafc924-c005-4989-9ffa-96033c499dc9"
      },
      "source": [
        "f1_score(y_test, predictions, average='weighted')"
      ],
      "execution_count": 167,
      "outputs": [
        {
          "output_type": "execute_result",
          "data": {
            "text/plain": [
              "0.13133265777174122"
            ]
          },
          "metadata": {},
          "execution_count": 167
        }
      ]
    },
    {
      "cell_type": "code",
      "metadata": {
        "id": "84oDQCgmPVAT"
      },
      "source": [
        "vggnet = tf.keras.applications.vgg19.VGG19(include_top=True, weights=None, input_shape=(48,48,1), classes=7, pooling='max', classifier_activation='softmax')"
      ],
      "execution_count": 168,
      "outputs": []
    },
    {
      "cell_type": "code",
      "metadata": {
        "id": "2B6pDacoKWnL"
      },
      "source": [
        "vggnet.compile(loss='categorical_crossentropy', \n",
        "              optimizer=Adam(lr=0.001, beta_1=0.9, beta_2=0.999, epsilon=1e-7), \n",
        "              metrics=['accuracy'])\n",
        "#compile(optimizer='rmsprop', loss=mean_squared_error, metrics=['accuracy'])"
      ],
      "execution_count": 169,
      "outputs": []
    },
    {
      "cell_type": "code",
      "metadata": {
        "colab": {
          "base_uri": "https://localhost:8080/"
        },
        "id": "ljzFiRiFbHlO",
        "outputId": "0e0a600c-c366-490e-d6d6-cb5e7c49c079"
      },
      "source": [
        "vggnet.fit(X_train, y_train, epochs = 2)"
      ],
      "execution_count": 178,
      "outputs": [
        {
          "output_type": "stream",
          "name": "stdout",
          "text": [
            "Epoch 1/2\n",
            "1010/1010 [==============================] - 110s 109ms/step - loss: 1.8118 - accuracy: 0.2515\n",
            "Epoch 2/2\n",
            "1010/1010 [==============================] - 110s 109ms/step - loss: 1.8114 - accuracy: 0.2515\n"
          ]
        },
        {
          "output_type": "execute_result",
          "data": {
            "text/plain": [
              "<keras.callbacks.History at 0x7fb38d988b50>"
            ]
          },
          "metadata": {},
          "execution_count": 178
        }
      ]
    },
    {
      "cell_type": "code",
      "metadata": {
        "colab": {
          "base_uri": "https://localhost:8080/"
        },
        "id": "iBVqxuvxbKbE",
        "outputId": "1728a48c-00fe-4923-8f95-35b348b19439"
      },
      "source": [
        "print(X_test[0].shape)\n",
        "pred = vggnet.predict(X_test)\n",
        "predictions = []\n",
        "for x in pred:\n",
        " predictions.append(np.argmax(x))"
      ],
      "execution_count": 179,
      "outputs": [
        {
          "output_type": "stream",
          "name": "stdout",
          "text": [
            "(48, 48, 1)\n"
          ]
        }
      ]
    },
    {
      "cell_type": "code",
      "metadata": {
        "colab": {
          "base_uri": "https://localhost:8080/"
        },
        "id": "6NUg5aI7buQm",
        "outputId": "30aa8f88-f70a-4e8d-8cd2-7393bda7632f"
      },
      "source": [
        "f1_score(y_test, predictions, average='weighted')"
      ],
      "execution_count": 180,
      "outputs": [
        {
          "output_type": "execute_result",
          "data": {
            "text/plain": [
              "0.0940046961766779"
            ]
          },
          "metadata": {},
          "execution_count": 180
        }
      ]
    },
    {
      "cell_type": "code",
      "metadata": {
        "id": "G_DWa_O5cokm"
      },
      "source": [
        "def get_emotion(cl):\n",
        "  k = []\n",
        "  for i in range(len(y_test)):\n",
        "    if y_test.iloc[i] == cl:\n",
        "      k.append(X_test[i])\n",
        "  return np.array(k)\n",
        "\n",
        "angry = get_emotion(0)\n",
        "fear = get_emotion(1)\n",
        "sad = get_emotion(2)\n",
        "neutral = get_emotion(3)\n",
        "happy = get_emotion(4)\n",
        "surprise = get_emotion(5)\n",
        "disgust = get_emotion(6)"
      ],
      "execution_count": 174,
      "outputs": []
    },
    {
      "cell_type": "code",
      "metadata": {
        "id": "ns0r7vo_inxP"
      },
      "source": [
        "def check(model,input, cl):\n",
        "  pred = []\n",
        "  pred = model.predict(input)\n",
        "  predictions = []\n",
        "  for x in pred:\n",
        "    predictions.append(np.argmax(x))\n",
        "  y_k = []\n",
        "  for i in range(len(input)):\n",
        "    y_k.append(cl)\n",
        "  return f1_score(y_k, predictions, average='weighted')"
      ],
      "execution_count": 175,
      "outputs": []
    },
    {
      "cell_type": "code",
      "metadata": {
        "colab": {
          "base_uri": "https://localhost:8080/"
        },
        "id": "Zfo8csNjkYP8",
        "outputId": "0e12f39f-80e0-4bc5-a519-3d4a90dc9e26"
      },
      "source": [
        "print(check(vggnet,angry, 0))\n",
        "print(check(vggnet,fear, 1))\n",
        "print(check(vggnet,sad, 2))\n",
        "print(check(vggnet,neutral, 3))\n",
        "print(check(vggnet,happy, 4))\n",
        "print(check(vggnet,surprise, 5))\n",
        "print(check(vggnet,disgust, 6))"
      ],
      "execution_count": 181,
      "outputs": [
        {
          "output_type": "stream",
          "name": "stdout",
          "text": [
            "0.0\n",
            "0.0\n",
            "0.0\n",
            "1.0\n",
            "0.0\n",
            "0.0\n",
            "0.0\n"
          ]
        }
      ]
    },
    {
      "cell_type": "code",
      "metadata": {
        "colab": {
          "base_uri": "https://localhost:8080/"
        },
        "id": "aLWvY03Mkjxq",
        "outputId": "3e507172-2e08-4562-cd18-ca192595d670"
      },
      "source": [
        "print(check(resnet,angry, 0))\n",
        "print(check(resnet,fear, 1))\n",
        "print(check(resnet,sad, 2))\n",
        "print(check(resnet,neutral, 3))\n",
        "print(check(resnet,happy, 4))\n",
        "print(check(resnet,surprise, 5))\n",
        "print(check(resnet,disgust, 6))"
      ],
      "execution_count": 177,
      "outputs": [
        {
          "output_type": "stream",
          "name": "stdout",
          "text": [
            "0.801377726750861\n",
            "0.0\n",
            "0.0\n",
            "0.5192143467122118\n",
            "0.025764895330112725\n",
            "0.0\n",
            "0.090625\n"
          ]
        }
      ]
    },
    {
      "cell_type": "code",
      "metadata": {
        "id": "HZKkCYcNmIcK"
      },
      "source": [
        ""
      ],
      "execution_count": null,
      "outputs": []
    }
  ]
}